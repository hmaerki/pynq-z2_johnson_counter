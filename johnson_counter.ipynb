{
 "cells": [
  {
   "cell_type": "markdown",
   "metadata": {},
   "source": [
    "# johnson counter\n",
    "\n",
    "https://www.element14.com/community/groups/fpga-group/blog/2021/05/31/add-pynq-z2-board-to-vivado\n",
    "\n",
    "\n",
    "johnson_counter.xpr\n",
    "\n",
    "https://www.youtube.com/watch?v=UBsCNPWudww\n",
    "\n",
    "instead of johnson_counter/design_1.tcl\n",
    "\n",
    "use johnson_counter/johnson_counter.gen/sources_1/bd/design_1/hw_handoff/design_1.hwh\n",
    "\n"
   ]
  },
  {
   "cell_type": "code",
   "execution_count": 8,
   "metadata": {},
   "outputs": [
    {
     "name": "stdout",
     "output_type": "stream",
     "text": [
      "<pynq.overlay.Overlay object at 0xaeefb030>\n"
     ]
    }
   ],
   "source": [
    "from pynq import Overlay\n",
    "ol = Overlay(\"johnson_counter.bit\")\n",
    "(print(ol))"
   ]
  },
  {
   "cell_type": "code",
   "execution_count": 9,
   "metadata": {},
   "outputs": [],
   "source": [
    "from pynq import GPIO\n",
    "\n",
    "left = GPIO(GPIO.get_gpio_pin(0), 'out')\n",
    "right = GPIO(GPIO.get_gpio_pin(1), 'out')\n",
    "stop = GPIO(GPIO.get_gpio_pin(2), 'out')"
   ]
  },
  {
   "cell_type": "code",
   "execution_count": 10,
   "metadata": {},
   "outputs": [],
   "source": [
    "stop.write(0)\n",
    "left.write(1)\n",
    "right.write(0)\n",
    "stop.write(1)"
   ]
  },
  {
   "cell_type": "code",
   "execution_count": 11,
   "metadata": {
    "scrolled": true
   },
   "outputs": [
    {
     "name": "stdout",
     "output_type": "stream",
     "text": [
      "FCLK0: 0.251953MHz\n"
     ]
    }
   ],
   "source": [
    "from pynq import Clocks\n",
    "Clocks.fclk0_mhz = 0.25\n",
    "(print(f'FCLK0: {Clocks.fclk0_mhz:.6f}MHz'))"
   ]
  },
  {
   "cell_type": "code",
   "execution_count": 12,
   "metadata": {},
   "outputs": [],
   "source": [
    "stop.write(0)\n",
    "left.write(0)\n",
    "right.write(1)\n",
    "stop.write(1)"
   ]
  }
 ],
 "metadata": {
  "celltoolbar": "Raw Cell Format",
  "kernelspec": {
   "display_name": "Python 3",
   "language": "python",
   "name": "python3"
  },
  "language_info": {
   "codemirror_mode": {
    "name": "ipython",
    "version": 3
   },
   "file_extension": ".py",
   "mimetype": "text/x-python",
   "name": "python",
   "nbconvert_exporter": "python",
   "pygments_lexer": "ipython3",
   "version": "3.6.5"
  }
 },
 "nbformat": 4,
 "nbformat_minor": 2
}
